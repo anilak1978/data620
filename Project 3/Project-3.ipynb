{
 "cells": [
  {
   "cell_type": "markdown",
   "metadata": {},
   "source": [
    "# Project 3\n",
    "\n",
    "## Team Members\n",
    "\n",
    "*Simon Ustoyev\n",
    "\n",
    "*Elina Azrilyan\n",
    "\n",
    "*Jack Russo\n",
    "\n",
    "*Anil Akyildirim\n",
    "\n",
    "## Introduction\n",
    "\n",
    "In this assignment, we will be creating a name gender classifier by using the names corpus , splitting into three subsets, starting with the name classifier and further create new feauture set and then evaluate the performance with the test set.\n",
    "\n",
    "[Assignment Video](https://screencast-o-matic.com/watch/cYihI35xbr)"
   ]
  },
  {
   "cell_type": "code",
   "execution_count": 1,
   "metadata": {},
   "outputs": [],
   "source": [
    "import nltk\n",
    "from nltk.corpus import names\n",
    "import pandas as pd\n",
    "import random\n",
    "from pandas import DataFrame\n",
    "import seaborn as sns\n",
    "import matplotlib.pyplot as plt"
   ]
  },
  {
   "cell_type": "markdown",
   "metadata": {},
   "source": [
    "## Data Collection"
   ]
  },
  {
   "cell_type": "markdown",
   "metadata": {},
   "source": [
    "Male and Female names have different characteristics. Names ending in a, e and i are likely to be female, while names ending k,o,r,s and t are likely to be male. First we are going to load the names corpus."
   ]
  },
  {
   "cell_type": "code",
   "execution_count": 2,
   "metadata": {},
   "outputs": [],
   "source": [
    "# Load the names corpus, use random to shuffle the names\n",
    "labeled_names = ([(name, 'male') for name in names.words('male.txt')] +\n",
    "                 [(name, 'female') for name in names.words('female.txt')])\n",
    "random.shuffle(labeled_names)"
   ]
  },
  {
   "cell_type": "code",
   "execution_count": 3,
   "metadata": {},
   "outputs": [
    {
     "data": {
      "text/plain": [
       "[('Mortimer', 'male'),\n",
       " ('Rik', 'male'),\n",
       " ('Hallie', 'female'),\n",
       " ('Verla', 'female'),\n",
       " ('Torr', 'male')]"
      ]
     },
     "execution_count": 3,
     "metadata": {},
     "output_type": "execute_result"
    }
   ],
   "source": [
    "labeled_names[0:5]"
   ]
  },
  {
   "cell_type": "markdown",
   "metadata": {},
   "source": [
    "## Feature Definition and Creation\n",
    "\n",
    "First thing we do is to find what features of the input are relevant and how we can encode these features. Based on Chapter 6 of the book, the first feature we will create is the final letter of a given name. "
   ]
  },
  {
   "cell_type": "code",
   "execution_count": 4,
   "metadata": {},
   "outputs": [],
   "source": [
    "# gender_features -reference http://www.nltk.org/book/ch06.html\n",
    "def gender_features(name):\n",
    "  return {'last_letter': name[-1]}"
   ]
  },
  {
   "cell_type": "markdown",
   "metadata": {},
   "source": [
    "Second feature we will use the common approach \"kitchen sink\" where we include all the features that we think of for gender classification as example 2 of the book. In this example, feature is defined as last letter of the name as per the first example, first letter , number of times each letter appears in the name and if the letter was present in the name at all."
   ]
  },
  {
   "cell_type": "code",
   "execution_count": 5,
   "metadata": {},
   "outputs": [],
   "source": [
    "# gender_features_overfit - reference http://www.nltk.org/book/ch06.html \n",
    "def gender_features_overfit(name):\n",
    "    features = {}\n",
    "    features[\"first_letter\"] = name[0].lower()\n",
    "    features[\"last_letter\"] = name[-1].lower()\n",
    "    for letter in 'abcdefghijklmnopqrstuvwxyz':\n",
    "        features[\"count({})\".format(letter)] = name.lower().count(letter)\n",
    "        features[\"has({})\".format(letter)] = (letter in name.lower())\n",
    "    return features"
   ]
  },
  {
   "cell_type": "markdown",
   "metadata": {},
   "source": [
    "The last example that is provided in the book is based on looking at the errors of the second example where it is clear that some suffixes that are more than one letter can be indicative of name genders. We can add this as a feature example 3. This feature is looking for the first and last two letters in the name."
   ]
  },
  {
   "cell_type": "code",
   "execution_count": 6,
   "metadata": {},
   "outputs": [],
   "source": [
    "# gender_features_suffix -reference http://www.nltk.org/book/ch06.html\n",
    "def gender_features_suffix(word):\n",
    "  return {'suffix1': word[-1:], 'suffix2': word[-2:]}"
   ]
  },
  {
   "cell_type": "markdown",
   "metadata": {},
   "source": [
    "After looking at all these three feature definitions, we can create our own by enhancing the first two examples. We will include the first letter, last letter as per example 2, suffix as example 3 with the condition of the length of the name and look for consonant blends in a name. (Reference: https://arxiv.org/pdf/1606.05467.pdf ) . The list of consonant blends can be found here: (https://www.enchantedlearning.com/consonantblends/#:~:text=Consonant%20blends%20"
   ]
  },
  {
   "cell_type": "code",
   "execution_count": 7,
   "metadata": {},
   "outputs": [],
   "source": [
    "def gender_features_add_on(name):\n",
    "    features = {}\n",
    "    temp_name = name\n",
    "    consonant_blends = [\"bl\", \n",
    "                         \"br\", \n",
    "                         \"ch\", \n",
    "                         \"cl\", \n",
    "                         \"cr\", \n",
    "                         \"dr\", \n",
    "                         \"fl\", \n",
    "                         \"fr\", \n",
    "                         \"gl\", \n",
    "                         \"gr\", \n",
    "                         \"pl\", \n",
    "                         \"pr\", \n",
    "                         \"sc\", \n",
    "                         \"sh\", \n",
    "                         \"sk\", \n",
    "                         \"sl\", \n",
    "                         \"sm\", \n",
    "                         \"sn\", \n",
    "                         \"sp\", \n",
    "                         \"st\", \n",
    "                         \"sw\", \n",
    "                         \"th\", \n",
    "                         \"tr\", \n",
    "                         \"tw\", \n",
    "                         \"wh\", \n",
    "                         \"wr\", \n",
    "                         \"sch\", \n",
    "                         \"scr\", \n",
    "                         \"shr\", \n",
    "                         \"sph\", \n",
    "                         \"spl\", \n",
    "                         \"spr\", \n",
    "                         \"squ\", \n",
    "                         \"str\", \n",
    "                         \"thr\"]\n",
    "    features[\"firstletter\"] = name[0].lower() \n",
    "    features[\"lastletter\"] = name[-1].lower() \n",
    "    features[\"suffix1\"] = name[:3].lower() if len(name) > 4 else name[:2].lower() \n",
    "    features[\"suffix2\"] = name[-3:].lower() if len(name) > 4 else name[-2:].lower()\n",
    "    clusters = []\n",
    "    for cluster in consonant_blends[::-1]:\n",
    "        if cluster in temp_name:\n",
    "            temp_name = temp_name.replace(cluster, \"\")\n",
    "            clusters.append(cluster)\n",
    "    features[\"consonant_blends_1\"] = clusters[0] if len(clusters) > 0 else None\n",
    "    features[\"consonant_blends_2\"] = clusters[1] if len(clusters) > 1 else None\n",
    "    features[\"consonant_blends_3\"] = clusters[2] if len(clusters) > 2 else None\n",
    "    return features"
   ]
  },
  {
   "cell_type": "markdown",
   "metadata": {},
   "source": [
    "After creating our feature by combining the example feature sets and adding additional feature. We can add additional possible features. Below are some ideas;\n",
    "\n",
    "1- Define the number of syllables: Female names have more syllables than male names.\n",
    "\n",
    "2- Number of consonants: Male names have more consonants than female names. (We have used consonants in our set\n",
    "\n",
    "3- Number of vowels: Female name contains more vowels than male name.\n",
    "\n",
    "4- Ending Character: Female names end more often with a vowel than male names."
   ]
  },
  {
   "cell_type": "markdown",
   "metadata": {},
   "source": [
    "Out of these four ideas, let's try two of them. Number 1 and 4."
   ]
  },
  {
   "cell_type": "code",
   "execution_count": 8,
   "metadata": {},
   "outputs": [],
   "source": [
    "#Combined with last is vowel, last letter, last three, two, letter.\n",
    "def vowel_features(name):\n",
    "    return({'last_is_vowel': (name[-1] in 'aeiouy'),\n",
    "            'last_letter': name[-1],\n",
    "            'last_three': name[-3:],\n",
    "            'last_two': name[-2:]})"
   ]
  },
  {
   "cell_type": "code",
   "execution_count": 9,
   "metadata": {},
   "outputs": [],
   "source": [
    "# Number of Syllables: Female names tend to have more syllables than their male counterparts.\n",
    "def syllable_count(word):\n",
    "    word = word.lower()\n",
    "    count = 0\n",
    "    vowels = \"aeiouy\"\n",
    "    if word[0] in vowels:\n",
    "        count += 1\n",
    "    for index in range(1, len(word)):\n",
    "        if word[index] in vowels and word[index - 1] not in vowels:\n",
    "            count += 1\n",
    "    if word.endswith(\"e\"):\n",
    "        count -= 1\n",
    "    if count == 0:\n",
    "        count += 1\n",
    "    return ({'syllables count' : count})"
   ]
  },
  {
   "cell_type": "markdown",
   "metadata": {},
   "source": [
    "We have three main feature functions that we defined. Let's create a function that takes the function name as an aurgument and return the feature set."
   ]
  },
  {
   "cell_type": "code",
   "execution_count": 10,
   "metadata": {},
   "outputs": [],
   "source": [
    "# choose features\n",
    "def choose_features(metric):\n",
    "  if metric == \"gender_features_add_on\":\n",
    "    return([(gender_features_add_on(n), gender) for (n, gender) in labeled_names])\n",
    "  if metric == \"vowel_features\":\n",
    "    return([(vowel_features(n), gender) for (n, gender) in labeled_names])\n",
    "  if metric== 'syllable_count':\n",
    "    return([(syllable_count(n), gender) for (n, gender) in labeled_names])\n",
    "  else:\n",
    "    print(\"No Metric Found\")"
   ]
  },
  {
   "cell_type": "markdown",
   "metadata": {},
   "source": [
    "## Naive Bayes Classification and Accuracy"
   ]
  },
  {
   "cell_type": "markdown",
   "metadata": {},
   "source": [
    "We are going to use Naive Bayes as a Classifier. We are going to look at the 3 feature functions we created and create a model for each and then compare the accuracy of the gender classifiers."
   ]
  },
  {
   "cell_type": "code",
   "execution_count": 11,
   "metadata": {},
   "outputs": [
    {
     "name": "stdout",
     "output_type": "stream",
     "text": [
      "Most Informative Features\n",
      "              lastletter = 'k'              male : female =     41.2 : 1.0\n",
      "              lastletter = 'a'            female : male   =     34.4 : 1.0\n",
      "                 suffix2 = 'ard'            male : female =     27.3 : 1.0\n",
      "                 suffix2 = 'ita'          female : male   =     24.0 : 1.0\n",
      "                 suffix2 = 'tta'          female : male   =     22.7 : 1.0\n",
      "Most Informative Features\n",
      "                last_two = 'na'           female : male   =     93.9 : 1.0\n",
      "                last_two = 'la'           female : male   =     66.8 : 1.0\n",
      "             last_letter = 'k'              male : female =     41.2 : 1.0\n",
      "                last_two = 'ia'           female : male   =     37.4 : 1.0\n",
      "             last_letter = 'a'            female : male   =     34.4 : 1.0\n",
      "Most Informative Features\n",
      "         syllables count = 4              female : male   =      3.6 : 1.0\n",
      "         syllables count = 3              female : male   =      2.0 : 1.0\n",
      "         syllables count = 1                male : female =      1.5 : 1.0\n",
      "         syllables count = 2                male : female =      1.1 : 1.0\n"
     ]
    }
   ],
   "source": [
    "# gender_features_add_on\n",
    "featuresets = choose_features(metric = \"gender_features_add_on\")\n",
    "train_set, dev_test_set, test_set = featuresets[1000:], featuresets[500:1000], featuresets[:500]\n",
    "classifier = nltk.NaiveBayesClassifier.train(train_set)\n",
    "gender_features_add_on_accuracy_1 = nltk.classify.accuracy(classifier, dev_test_set)\n",
    "gender_features_add_on_features_1 = classifier.show_most_informative_features(5)\n",
    "# vowel_features\n",
    "featuresets = choose_features(metric = \"vowel_features\")\n",
    "train_set, dev_test_set, test_set = featuresets[1000:], featuresets[500:1000], featuresets[:500]\n",
    "classifier = nltk.NaiveBayesClassifier.train(train_set)\n",
    "vowel_features_accuracy_1 = nltk.classify.accuracy(classifier, dev_test_set)\n",
    "vowel_features_informative_1 = classifier.show_most_informative_features(5)\n",
    "# syllable_count\n",
    "featuresets = choose_features(metric = \"syllable_count\")\n",
    "train_set, dev_test_set, test_set = featuresets[1000:], featuresets[500:1000], featuresets[:500]\n",
    "classifier = nltk.NaiveBayesClassifier.train(train_set)\n",
    "syllable_count_accuracy_1 = nltk.classify.accuracy(classifier, dev_test_set)\n",
    "syllable_count_informative_1 = classifier.show_most_informative_features(5)"
   ]
  },
  {
   "cell_type": "code",
   "execution_count": 12,
   "metadata": {},
   "outputs": [
    {
     "name": "stdout",
     "output_type": "stream",
     "text": [
      "Most Informative Features\n",
      "              lastletter = 'k'              male : female =     41.2 : 1.0\n",
      "              lastletter = 'a'            female : male   =     34.4 : 1.0\n",
      "                 suffix2 = 'ard'            male : female =     27.3 : 1.0\n",
      "                 suffix2 = 'ita'          female : male   =     24.0 : 1.0\n",
      "                 suffix2 = 'tta'          female : male   =     22.7 : 1.0\n",
      "Most Informative Features\n",
      "                last_two = 'na'           female : male   =     93.9 : 1.0\n",
      "                last_two = 'la'           female : male   =     66.8 : 1.0\n",
      "             last_letter = 'k'              male : female =     41.2 : 1.0\n",
      "                last_two = 'ia'           female : male   =     37.4 : 1.0\n",
      "             last_letter = 'a'            female : male   =     34.4 : 1.0\n",
      "Most Informative Features\n",
      "         syllables count = 4              female : male   =      3.6 : 1.0\n",
      "         syllables count = 3              female : male   =      2.0 : 1.0\n",
      "         syllables count = 1                male : female =      1.5 : 1.0\n",
      "         syllables count = 2                male : female =      1.1 : 1.0\n"
     ]
    }
   ],
   "source": [
    "# gender_features_add_on\n",
    "featuresets = choose_features(metric = \"gender_features_add_on\")\n",
    "train_set, dev_test_set, test_set = featuresets[1000:], featuresets[500:1000], featuresets[:500]\n",
    "classifier = nltk.NaiveBayesClassifier.train(train_set)\n",
    "gender_features_add_on_accuracy_2 = nltk.classify.accuracy(classifier, test_set)\n",
    "gender_features_add_on_features_2 = classifier.show_most_informative_features(5)\n",
    "# vowel_features\n",
    "featuresets = choose_features(metric = \"vowel_features\")\n",
    "train_set, dev_test_set, test_set = featuresets[1000:], featuresets[500:1000], featuresets[:500]\n",
    "classifier = nltk.NaiveBayesClassifier.train(train_set)\n",
    "vowel_features_accuracy_2 = nltk.classify.accuracy(classifier, test_set)\n",
    "vowel_features_informative_2 = classifier.show_most_informative_features(5)\n",
    "# syllable_count\n",
    "featuresets = choose_features(metric = \"syllable_count\")\n",
    "train_set, dev_test_set, test_set = featuresets[1000:], featuresets[500:1000], featuresets[:500]\n",
    "classifier = nltk.NaiveBayesClassifier.train(train_set)\n",
    "syllable_count_accuracy_2 = nltk.classify.accuracy(classifier, test_set)\n",
    "syllable_count_informative_2 = classifier.show_most_informative_features(5)"
   ]
  },
  {
   "cell_type": "code",
   "execution_count": 13,
   "metadata": {},
   "outputs": [
    {
     "data": {
      "text/plain": [
       "0.844"
      ]
     },
     "execution_count": 13,
     "metadata": {},
     "output_type": "execute_result"
    }
   ],
   "source": [
    "gender_features_add_on_accuracy_1"
   ]
  },
  {
   "cell_type": "code",
   "execution_count": 14,
   "metadata": {},
   "outputs": [
    {
     "data": {
      "text/plain": [
       "0.798"
      ]
     },
     "execution_count": 14,
     "metadata": {},
     "output_type": "execute_result"
    }
   ],
   "source": [
    "vowel_features_accuracy_1"
   ]
  },
  {
   "cell_type": "code",
   "execution_count": 15,
   "metadata": {},
   "outputs": [
    {
     "data": {
      "text/plain": [
       "0.62"
      ]
     },
     "execution_count": 15,
     "metadata": {},
     "output_type": "execute_result"
    }
   ],
   "source": [
    "syllable_count_accuracy_1"
   ]
  },
  {
   "cell_type": "code",
   "execution_count": 16,
   "metadata": {},
   "outputs": [
    {
     "data": {
      "text/plain": [
       "0.82"
      ]
     },
     "execution_count": 16,
     "metadata": {},
     "output_type": "execute_result"
    }
   ],
   "source": [
    "gender_features_add_on_accuracy_2"
   ]
  },
  {
   "cell_type": "code",
   "execution_count": 17,
   "metadata": {},
   "outputs": [
    {
     "data": {
      "text/plain": [
       "0.782"
      ]
     },
     "execution_count": 17,
     "metadata": {},
     "output_type": "execute_result"
    }
   ],
   "source": [
    "vowel_features_accuracy_2"
   ]
  },
  {
   "cell_type": "code",
   "execution_count": 18,
   "metadata": {},
   "outputs": [
    {
     "data": {
      "text/plain": [
       "0.624"
      ]
     },
     "execution_count": 18,
     "metadata": {},
     "output_type": "execute_result"
    }
   ],
   "source": [
    "syllable_count_accuracy_2"
   ]
  },
  {
   "cell_type": "code",
   "execution_count": 19,
   "metadata": {},
   "outputs": [
    {
     "data": {
      "text/plain": [
       "<seaborn.axisgrid.FacetGrid at 0x18b873fbc08>"
      ]
     },
     "execution_count": 19,
     "metadata": {},
     "output_type": "execute_result"
    },
    {
     "data": {
      "image/png": "[encoded data removed]",
      "text/plain": [
       "<Figure size 360x360 with 1 Axes>"
      ]
     },
     "metadata": {
      "needs_background": "light"
     },
     "output_type": "display_data"
    }
   ],
   "source": [
    "df = pd.DataFrame(labeled_names[0:])\n",
    "df.columns=['Name', 'Gender']\n",
    "df.head()\n",
    "sns.catplot(x=\"Gender\", kind=\"count\", palette=\"ch:.25\", data=df)"
   ]
  },
  {
   "cell_type": "markdown",
   "metadata": {},
   "source": [
    "## Conclusion\n",
    "\n",
    "In this project, we have created a gender classification models using Naive Bayes with using different feature sets we have created. We have taken the 3 example feature definitions from the book and created one enhanced version of feature set and two additional features to be used in classification. We have created the classification models and tested both with dev_test_set and test_set. gender_features_add_on feature we used for naive bayes classification with dev_test_set has the highest accuracy (81%) which is consitent with the classification method and feature set when used in test set we see the accuracy of 83%. Comparing all there feature set, gender_features_add_on has the highest accuracy, followed by vowel_feature and syllable_count feature."
   ]
  },
  {
   "cell_type": "code",
   "execution_count": null,
   "metadata": {},
   "outputs": [],
   "source": []
  }
 ],
 "metadata": {
  "kernelspec": {
   "display_name": "Python 3",
   "language": "python",
   "name": "python3"
  },
  "language_info": {
   "codemirror_mode": {
    "name": "ipython",
    "version": 3
   },
   "file_extension": ".py",
   "mimetype": "text/x-python",
   "name": "python",
   "nbconvert_exporter": "python",
   "pygments_lexer": "ipython3",
   "version": "3.7.4"
  }
 },
 "nbformat": 4,
 "nbformat_minor": 2
}
